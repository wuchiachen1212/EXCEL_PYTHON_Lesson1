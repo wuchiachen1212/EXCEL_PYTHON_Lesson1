{
 "cells": [
  {
   "cell_type": "markdown",
   "metadata": {},
   "source": [
    "# Excel 的内建功能：錄製巨集\n",
    "\n",
    "在開始之前講一下這個實用的 Excel 功能，Excel 會把一連串使用者的操作都錄製下來\n",
    "\n",
    "![](https://www.dropbox.com/s/6h4xzhgfc6a7k1r/be1200dc-fdf2-48d0-a8e6-b23a1a885339.png?dl=1)\n",
    "\n",
    "實際上它的運作原理是把使用者的操作轉成 VBA 的子程序\n",
    "\n",
    "這個功能看似强大，但其實有很多局限\n",
    "\n",
    "想理解更多的同學可以看一下 [Microsoft 的官方文件](https://support.office.com/zh-tw/article/%E4%BD%BF%E7%94%A8%E5%B7%A8%E9%9B%86%E9%8C%84%E8%A3%BD%E5%99%A8%E8%87%AA%E5%8B%95%E5%8C%96%E5%B7%A5%E4%BD%9C-974ef220-f716-4e01-b015-3ea70e64937b)"
   ]
  },
  {
   "cell_type": "markdown",
   "metadata": {},
   "source": [
    "# VBA 語言簡介\n",
    "\n",
    "用一句話形容用 VBA 為 Excel 寫自動化的程式，就是**針對一個或多個儲存格進行操作**\n",
    "\n",
    "針對一個或多個儲存做修改時，我們勢必需要先選擇我們想要操作的儲存格，也因此，在 VBA 最常被用到的兩個函數分別是：\n",
    "\n",
    "### Cells() 函數：\n",
    "\n",
    "用法：**Cells(row值, column值)**\n",
    "\n",
    "今天當我想賦值給 A1 儲存格時：\n",
    "```vb\n",
    "Cells(1, 1).value = 123\n",
    "```\n",
    "問題是這樣的寫法非常不直覺，所以 VBA 也支援以下寫法：\n",
    "```vb\n",
    "Cells(1, \"A\").value = 123\n",
    "```\n",
    "\n",
    "### Range() 函數：\n",
    "\n",
    "當我需要針對一個或多個儲存格(一個 Excel 試算表的範圍)去進行操作時：\n",
    "\n",
    "用法：**Range(\"起點:結束點\")**\n",
    "\n",
    "將 A1 儲存格的值設定成 123\n",
    "```vb\n",
    "Range(\"A1\").value = 123\n",
    "```\n",
    "將範圍 A1 到 C3 共九個儲存格的值設定成 123\n",
    "\n",
    "```vb\n",
    "Range(\"A1:C3\").value = 123\n",
    "```\n",
    "\n",
    "當然，字串在用 loop 執行時會增加程式碼的複雜度(字串拼接)\n",
    "所以 Range 有另一種用法：**Range(Cells(起點), Cells(結束點))**\n",
    "\n",
    "```vb\n",
    "Range(Cells(1, \"A\"), Cells(3, \"C\")).value = 123\n",
    "```\n",
    "\n",
    "\n",
    "### Dot Notation (句點表示法)：\n",
    "\n",
    "大部分的物件導向程式語言都支援的語法：\n",
    "\n",
    "**<物件名稱>.<屬性名稱> = <被賦予的值>**"
   ]
  },
  {
   "cell_type": "markdown",
   "metadata": {},
   "source": [
    "# Python 與 Excel 整合的兩大主流套件\n",
    "\n",
    "Python 與 Excel 整合主要的兩個套件就是\n",
    "- **openpyxl**\n",
    "- **xlwings**\n",
    "\n",
    "### openpyxl vs xlwings\n",
    "\n",
    "- 若你只想單純的匯出 Excel 報表，openpyxl 就足夠使用\n",
    "- 若你希望能夠實作出類似 VBA 的所見即所得 (WYSIWYG) 的功能，xlwings 比較適合你\n"
   ]
  },
  {
   "cell_type": "markdown",
   "metadata": {},
   "source": [
    "# 先 import 我們所需要的模組"
   ]
  },
  {
   "cell_type": "code",
   "execution_count": null,
   "metadata": {},
   "outputs": [],
   "source": [
    "import openpyxl\n",
    "import os"
   ]
  },
  {
   "cell_type": "code",
   "execution_count": null,
   "metadata": {},
   "outputs": [],
   "source": [
    "# 切換工作目錄\n",
    "os.chdir(r\"stock_price_data.xlsx 所在的路徑\")\n",
    "# 將 stock_price_data.xlsx 的内容存入 workbook 變數\n",
    "workbook = openpyxl.load_workbook(\"stock_price_data.xlsx\")\n",
    "# 將 stock_price_data.xlsx 名爲 2330 的試算表存入 sheet 變數\n",
    "sheet = workbook[\"2330\"]\n",
    "# 用 cell 函數截取 row =1, column = 2 的儲存格的值\n",
    "result = sheet.cell(row=1, column=2).value\n",
    "print(result)"
   ]
  },
  {
   "cell_type": "markdown",
   "metadata": {},
   "source": [
    "# 計算第二天的日報酬率"
   ]
  },
  {
   "cell_type": "code",
   "execution_count": null,
   "metadata": {},
   "outputs": [],
   "source": [
    "# 取得 B4 儲存格(第三天)的資料\n",
    "today_price = sheet.cell(row=4, column=2).value\n",
    "today_price"
   ]
  },
  {
   "cell_type": "code",
   "execution_count": null,
   "metadata": {},
   "outputs": [],
   "source": [
    "# 取得 B3 儲存格(第二天)的資料\n",
    "yesterday_price = sheet.cell(row=3, column=2).value\n",
    "yesterday_price"
   ]
  },
  {
   "cell_type": "code",
   "execution_count": null,
   "metadata": {},
   "outputs": [],
   "source": [
    "# 計算報酬率\n",
    "return_value = (today_price - yesterday_price) / yesterday_price"
   ]
  },
  {
   "cell_type": "code",
   "execution_count": null,
   "metadata": {},
   "outputs": [],
   "source": [
    "# 最後需要把值寫入儲存格 C4 (別忘了關掉 Excel 檔案)\n",
    "sheet.cell(row=4, column=3).value = return_value\n",
    "\n",
    "# 別忘了要存檔\n",
    "# workbook.save(\"stock_price_data.xlsx\")"
   ]
  },
  {
   "cell_type": "markdown",
   "metadata": {},
   "source": [
    "# 隨堂練習：計算出每一天的報酬率"
   ]
  },
  {
   "cell_type": "code",
   "execution_count": null,
   "metadata": {},
   "outputs": [],
   "source": [
    "for i in range(3, 97):\n",
    "    # 算出每一個 row 的報酬率\n",
    "    today_price = _______________________\n",
    "    yesterday_price = _______________________\n",
    "    daily_return = _______________________\n",
    "    # 寫入每一個儲存格\n",
    "    _______________________\n",
    "    # 印出該行報酬率\n",
    "    print(daily_return)\n",
    "\n",
    "# 算出所有儲存格後，存檔\n",
    "workbook.save(\"stock_price_data.xlsx\")"
   ]
  },
  {
   "cell_type": "markdown",
   "metadata": {},
   "source": [
    "# openpyxl 小結\n",
    "\n",
    "- 功能强大，語法貼近 Python\n",
    "- 若是有功能需要做到寫入儲存格，就需要關掉 Excel 才可以運作 (無法所見及所得，開發流程與效率相對差)\n",
    "- 若是需要寫入值，需要在程式的最後一行加上 workbook.save() (相對麻煩)\n",
    "- 適用於大型系統輸出 Excel 報表的功能"
   ]
  },
  {
   "cell_type": "markdown",
   "metadata": {},
   "source": [
    "# 接下來我們來探索 xlwings 套件"
   ]
  },
  {
   "cell_type": "code",
   "execution_count": 12,
   "metadata": {},
   "outputs": [],
   "source": [
    "import xlwings as xw"
   ]
  },
  {
   "cell_type": "code",
   "execution_count": 13,
   "metadata": {},
   "outputs": [],
   "source": [
    "# 打開你的 stock_price_data.xlsx 檔案\n",
    "wb = xw.Book(r'C:\\Users\\user\\Desktop\\305_EXCEL_PYTHON\\Lesson1\\stock_price_data.xlsx')"
   ]
  },
  {
   "cell_type": "markdown",
   "metadata": {},
   "source": [
    "### xlwings 的 cells() 與 range()\n",
    "\n",
    "在語法上非常貼近 VBA 的 cells() 與 range():\n",
    "\n",
    "```python\n",
    "cells(1, 'A').value = 123\n",
    "\n",
    "range(\"A1:C3\").value = 123\n",
    "```\n",
    "\n",
    "這樣的好處是大幅降低了 VBA 開發者切換至 Python 的學習成本\n"
   ]
  },
  {
   "cell_type": "markdown",
   "metadata": {},
   "source": [
    "## 使用 cells() 的小叮嚀\n",
    "\n",
    "今天我若想擷取 B1 儲存格的值，可以這樣寫：\n",
    "```python\n",
    "tsmc_sheet.cells(1, 'B').value\n",
    "```\n",
    "\n",
    "### cells(儲存格的row值，儲存格的column值)\n",
    "\n",
    "儲存格的column值可以用字串 'B' 或 數字 2 表示\n",
    "\n",
    "### 但是！\n",
    "\n",
    "**若你是用 Mac, xlwings 不支援用字串表示 column 值**\n",
    "\n",
    "這是 xlwings 在 Mac 上的極限，所以若你是用 Mac，上述程式碼需改寫成：\n",
    "\n",
    "```python\n",
    "tsmc_sheet.cells(1, 2).value\n",
    "```"
   ]
  },
  {
   "cell_type": "code",
   "execution_count": 14,
   "metadata": {},
   "outputs": [
    {
     "data": {
      "text/plain": [
       "<Sheet [stock_price_data.xlsx]2330>"
      ]
     },
     "execution_count": 14,
     "metadata": {},
     "output_type": "execute_result"
    }
   ],
   "source": [
    "# 從該 Excel 檔案裡找出名為 2330 的試算表，存入 tsmc_sheet 這個變數裏\n",
    "tsmc_sheet = wb.sheets['2330']\n",
    "tsmc_sheet"
   ]
  },
  {
   "cell_type": "code",
   "execution_count": 15,
   "metadata": {},
   "outputs": [],
   "source": [
    "tsmc_sheet.cells(1, \"F\").value = 123\n",
    "\n",
    "\n",
    "tsmc_sheet.range(\"F1:F3\").value = 123"
   ]
  },
  {
   "cell_type": "markdown",
   "metadata": {},
   "source": [
    "# 計算報酬率"
   ]
  },
  {
   "cell_type": "code",
   "execution_count": 16,
   "metadata": {},
   "outputs": [],
   "source": [
    "# 算出所有的報酬率\n",
    "for i in range(3, 97):\n",
    "    daily_return = (tsmc_sheet.cells(i, 2).value - tsmc_sheet.cells(i-1, 2).value) / tsmc_sheet.cells(i-1, 2).value\n",
    "    tsmc_sheet.cells(i, 3).value = daily_return"
   ]
  },
  {
   "cell_type": "markdown",
   "metadata": {},
   "source": [
    "問題來了，要是試算表上**多了或少了一筆資料，原本的程式就爆炸了...**\n",
    "\n",
    "**若你寫出了一個需要頻繁修改的程式，那就失去了自動化的意義**\n",
    "\n",
    "我們需要一個能夠動態偵測我們有幾筆資料需要計算的方法"
   ]
  },
  {
   "cell_type": "markdown",
   "metadata": {},
   "source": [
    "# 動態偵測資料筆數的方法\n",
    "\n",
    "在 VBA 的世界裡，有個好用的函數叫做 End()，可以動態偵測一堆**連續範圍的最後一個儲存格**\n",
    "```vb\n",
    "last_row = Range(\"A1\").End(xlDown).Row\n",
    "```\n",
    "會從 A1 儲存格開始，**往下**查找到最後一個有值的儲存格\n",
    "```vb\n",
    "last_col = Range(\"A1\").End(xlToRight).Column\n",
    "```\n",
    "會從 A1 儲存格開始，**往右**查找到最後一個有值的儲存格"
   ]
  },
  {
   "cell_type": "code",
   "execution_count": 17,
   "metadata": {},
   "outputs": [],
   "source": [
    "# 這邊就來介紹一下 xlwings 的 end 功能\n",
    "from xlwings.constants import Direction\n",
    "\n",
    "\n",
    "# 會 VBA 的人，馬上可以看出 xlwings 原汁原味的實作了 Python 版的 End() 函數\n",
    "# 從 A1 儲存格開始，往下查找到最後一個有值的儲存格\n",
    "last_cell = tsmc_sheet.range('A1').end(Direction.xlDown)\n",
    "# 把從 A1 開始，往下最後一個有值的儲存格底色設定成紅色\n",
    "last_cell.color = (255, 0, 0)"
   ]
  },
  {
   "cell_type": "code",
   "execution_count": 20,
   "metadata": {},
   "outputs": [],
   "source": [
    "from xlwings.constants import Direction\n",
    "# 查找從 A1 開始、有值的範圍的最右下角的儲存格，將該儲存格存入 last_cell 變數，將其底色標為紅色\n",
    "last_cell = tsmc_sheet.range('A1').end(Direction.xlDown).end(Direction.xlToRight)\n",
    "\n",
    "# 使用 .row 屬性取得 row 值，也就是我們的資料有幾行\n",
    "last_row = last_cell.row"
   ]
  },
  {
   "cell_type": "markdown",
   "metadata": {},
   "source": [
    "# 隨堂練習\n",
    "\n",
    "利用動態偵測最後一個 row 的方式計算每一天的報酬率\n",
    "\n",
    "```python\n",
    "num_of_rows = tsmc_sheet.range('B1').end(Direction.xlDown).row\n",
    "\n",
    "for i in range(3, _________):\n",
    "    daily_return = _________________________________\n",
    "    ______________________ = daily_return\n",
    "```"
   ]
  },
  {
   "cell_type": "markdown",
   "metadata": {},
   "source": [
    "# 回家作業\n",
    "\n",
    "1. Cells Examples 所有的題目\n",
    "2. 計算所有的三日移動平均\n",
    "3. 計算出所有資料的五日加權移動平均 (加分題)"
   ]
  },
  {
   "cell_type": "code",
   "execution_count": 21,
   "metadata": {},
   "outputs": [],
   "source": [
    "# 算出所有的三日移動平均\n",
    "for i in range(4, last_row + 1):\n",
    "    today_price = tsmc_sheet.cells(i, 2).value\n",
    "    yesterday_price = tsmc_sheet.cells(i-1, 2).value\n",
    "    day_b4_yesterday =tsmc_sheet.cells(i-2, 2).value\n",
    "    \n",
    "    moving_average = (today_price + yesterday_price + day_b4_yesterday) / 3\n",
    "    tsmc_sheet.cells(i,  4).value = moving_average"
   ]
  },
  {
   "cell_type": "markdown",
   "metadata": {},
   "source": [
    "# 相關資源：\n",
    "\n",
    "Medium: \n",
    "\n",
    "[當大蟒蛇語言遇上老牌試算表軟體](https://medium.com/pyradise/%E7%95%B6%E5%A4%A7%E8%9F%92%E8%9B%87%E8%AA%9E%E8%A8%80%E9%81%87%E4%B8%8A%E8%80%81%E7%89%8C%E8%A9%A6%E7%AE%97%E8%A1%A8%E8%BB%9F%E9%AB%94-fc7947792000)\n",
    "\n",
    "[當大蟒蛇語言遇上老牌試算表軟體(2)](https://medium.com/pyradise/%E7%95%B6%E5%A4%A7%E8%9F%92%E8%9B%87%E8%AA%9E%E8%A8%80%E9%81%87%E4%B8%8A%E8%80%81%E7%89%8C%E8%A9%A6%E7%AE%97%E8%A1%A8%E8%BB%9F%E9%AB%94-2-2e1e825b31fe)\n",
    "\n",
    "xlwings 官網：\n",
    "\n",
    "[官網連結](https://www.xlwings.org/)"
   ]
  },
  {
   "cell_type": "code",
   "execution_count": null,
   "metadata": {},
   "outputs": [],
   "source": []
  }
 ],
 "metadata": {
  "kernelspec": {
   "display_name": "Python 3",
   "language": "python",
   "name": "python3"
  },
  "language_info": {
   "codemirror_mode": {
    "name": "ipython",
    "version": 3
   },
   "file_extension": ".py",
   "mimetype": "text/x-python",
   "name": "python",
   "nbconvert_exporter": "python",
   "pygments_lexer": "ipython3",
   "version": "3.6.4"
  }
 },
 "nbformat": 4,
 "nbformat_minor": 2
}
